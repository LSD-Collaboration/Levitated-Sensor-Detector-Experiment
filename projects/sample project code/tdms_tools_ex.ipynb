{
 "cells": [
  {
   "cell_type": "code",
   "execution_count": null,
   "id": "0",
   "metadata": {},
   "outputs": [],
   "source": [
    "%pip install -e .\n",
    "from pathlib import Path\n",
    "import matplotlib.pyplot as plt\n",
    "from analysis_pipeline.tdms_tools import TDMSDataset  # <- from your module"
   ]
  },
  {
   "cell_type": "code",
   "execution_count": null,
   "id": "1",
   "metadata": {},
   "outputs": [],
   "source": [
    "FOLDER = r\"C:\\your_path_here\"   # folder containing .tdms files\n",
    "CHANNEL = \"wfg\"             # channel to plot\n",
    "GROUP   = None              # or a specific TDMS group\n",
    "\n",
    "# Time window relative to dataset start [seconds]\n",
    "T0_REL_S = 0.999             \n",
    "T1_REL_S = 1.001            \n",
    "\n",
    "# Stream size (bigger -> fewer I/O calls)\n",
    "CHUNK_SAMPLES = 2_000_000\n",
    "\n",
    "# Optional: force a dtype during read (None = native TDMS dtype)\n",
    "FORCE_DTYPE = None"
   ]
  },
  {
   "cell_type": "code",
   "execution_count": null,
   "id": "2",
   "metadata": {},
   "outputs": [],
   "source": [
    "# Define the dataset with respect to your folder\n",
    "ds = TDMSDataset(FOLDER, group=GROUP)\n",
    "\n",
    "# Returns:\n",
    "#  - t_rel_s: float seconds since dataset start (numpy 1D array)\n",
    "#  - y: samples (same length as t_rel_s)\n",
    "#  - ds_start_abs: absolute start time of the dataset (datetime64[ns])\n",
    "t_rel_s, y, ds_start_abs = ds.read_window_rel(\n",
    "    CHANNEL,\n",
    "    T0_REL_S,\n",
    "    T1_REL_S,\n",
    "    chunk_samples=CHUNK_SAMPLES,\n",
    "    dtype=FORCE_DTYPE,\n",
    ")\n",
    "\n",
    "#Check load in\n",
    "if t_rel_s.size == 0:\n",
    "    print(\"No samples found in the requested relative window.\")\n",
    "else:\n",
    "    print(f\"Loaded {y.size} samples in \"\n",
    "          f\"[{T0_REL_S:.3f}s, {T1_REL_S:.3f}s] since dataset start \"\n",
    "          f\"({str(ds_start_abs).replace('T',' ')})\")\n"
   ]
  },
  {
   "cell_type": "code",
   "execution_count": null,
   "id": "3",
   "metadata": {},
   "outputs": [],
   "source": [
    "# Example Plot\n",
    "if t_rel_s.size:\n",
    "    plt.figure(figsize=(10, 4))\n",
    "    plt.plot(t_rel_s, y, linewidth=1)\n",
    "    plt.xlabel(\"Time since dataset start [s]\")\n",
    "    plt.ylabel(CHANNEL)\n",
    "    title_time = str(ds_start_abs).replace(\"T\", \" \")\n",
    "    plt.title(f\"{CHANNEL} — {Path(FOLDER).name}\\nDataset start: {title_time}\\n\"\n",
    "              f\"Window: {T0_REL_S:.3f}s → {T1_REL_S:.3f}s\")\n",
    "    plt.tight_layout()\n",
    "    plt.show()\n"
   ]
  }
 ],
 "metadata": {
  "kernelspec": {
   "display_name": ".venv",
   "language": "python",
   "name": "python3"
  },
  "language_info": {
   "codemirror_mode": {
    "name": "ipython",
    "version": 3
   },
   "file_extension": ".py",
   "mimetype": "text/x-python",
   "name": "python",
   "nbconvert_exporter": "python",
   "pygments_lexer": "ipython3",
   "version": "3.12.10"
  }
 },
 "nbformat": 4,
 "nbformat_minor": 5
}
